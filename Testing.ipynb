{
  "nbformat": 4,
  "nbformat_minor": 0,
  "metadata": {
    "colab": {
      "name": "Testing",
      "provenance": [],
      "collapsed_sections": [],
      "authorship_tag": "ABX9TyOnVhpXKOrVDbWyGUVUINke",
      "include_colab_link": true
    },
    "kernelspec": {
      "name": "python3",
      "display_name": "Python 3"
    },
    "language_info": {
      "name": "python"
    }
  },
  "cells": [
    {
      "cell_type": "markdown",
      "metadata": {
        "id": "view-in-github",
        "colab_type": "text"
      },
      "source": [
        "<a href=\"https://colab.research.google.com/github/gomezc08/A.I.-Image-Sharpening/blob/main/Testing.ipynb\" target=\"_parent\"><img src=\"https://colab.research.google.com/assets/colab-badge.svg\" alt=\"Open In Colab\"/></a>"
      ]
    },
    {
      "cell_type": "markdown",
      "source": [
        "##Initialize Files\n",
        "Connect to GoogleDrive and connect to training file"
      ],
      "metadata": {
        "id": "_43Zc37ahLxJ"
      }
    },
    {
      "cell_type": "code",
      "source": [
        "from google.colab import drive\n",
        "drive.mount('/gdrive')\n",
        "%cd /gdrive"
      ],
      "metadata": {
        "colab": {
          "base_uri": "https://localhost:8080/"
        },
        "id": "pGB-1xPgk7On",
        "outputId": "3bb4e3ec-ea44-4c7d-8c23-de64a9ce827a"
      },
      "execution_count": 4,
      "outputs": [
        {
          "output_type": "stream",
          "name": "stdout",
          "text": [
            "Mounted at /gdrive\n",
            "/gdrive\n"
          ]
        }
      ]
    },
    {
      "cell_type": "code",
      "source": [
        "!cp /gdrive/MyDrive/Colab\\ Notebooks/Training.py /content"
      ],
      "metadata": {
        "id": "0o9ffdi9eb8P"
      },
      "execution_count": 14,
      "outputs": []
    },
    {
      "cell_type": "code",
      "source": [
        "import Training"
      ],
      "metadata": {
        "id": "5jRNOTuGe3Cw"
      },
      "execution_count": 20,
      "outputs": []
    },
    {
      "cell_type": "markdown",
      "source": [
        "##Functions for image processing"
      ],
      "metadata": {
        "id": "ieGa4QMDhZyW"
      }
    },
    {
      "cell_type": "code",
      "source": [
        "def displayImage(epoch_no):\n",
        "  return Image.open('image_at_epoch_{:04d}.png'.format(epoch_no))\n",
        "\n",
        "def deprocessImage(i):\n",
        "    i = i * 127.5 + 127.5\n",
        "    return i.astype('uint8') \n",
        "  \n",
        "def picFileTest(path):\n",
        "  return path + \"/Test\""
      ],
      "metadata": {
        "id": "75FiyXcy41XG"
      },
      "execution_count": 16,
      "outputs": []
    },
    {
      "cell_type": "markdown",
      "source": [
        "##Testing "
      ],
      "metadata": {
        "id": "PicEedS-hegE"
      }
    },
    {
      "cell_type": "code",
      "source": [
        "dir = r'/gdrive/MyDrive/Results'    #directory where I will store my results\n",
        "from google.colab import files\n",
        "\n",
        "def test(batch_size, latest):\n",
        "  gTest = generatorModel()   \n",
        "  generatedPics = g.predict(x = test_x, batch_size = batch_size)   \n",
        "  generated = np.array([deprocessImage(img) for img in generatedPics])    \n",
        "  for i in range(generatedPics.shape[0]):\n",
        "    img = generated[i, :, :, :]\n",
        "    output = np.concatenate((img), axis=1)\n",
        "    im = Image.fromarray(output.astype(np.uint8))\n",
        "    os.chdir(dir)\n",
        "    plt.savefig('results{}.png'.format(i))\n",
        "    files.download('results{}.png'.format(i)) "
      ],
      "metadata": {
        "id": "_RIiUuffk37v"
      },
      "execution_count": 21,
      "outputs": []
    }
  ]
}